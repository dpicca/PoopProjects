{
 "cells": [
  {
   "cell_type": "markdown",
   "source": [
    "## Contexte\n",
    "Les films sont certainement l'une des expressions artistiques les plus répandues dans le domaine de la culture. D'un point de vue informatique, la forme cinéma a l’avantage d'être extrêmement structurée par sa composition en effet sa structure composée de scènes contenante chacune des acteurs qui s’expriment sous une forme quasi conséquente, aide grandement au traitement automatique de telles données.\n",
    "\n",
    "En effet, dans presque toutes les films, les acteurs sont prédéfinis et à chaque échange de dialogue il est aisé de définir qui est l'orateur ainsi que de lui attribuer facilement ce qu'il exprime.\n",
    "\n",
    "À partir de ces prémisses, il s'agit de construire un jeu de données qui, pour chaque personnage de la pièce, reprend les dialogues jusqu'à les enrichir de balises identifiant les mots exprimant des émotions."
   ],
   "metadata": {
    "collapsed": false
   }
  },
  {
   "cell_type": "markdown",
   "metadata": {
    "collapsed": true,
    "pycharm": {
     "name": "#%% md\n"
    }
   },
   "source": [
    "## Guidelines\n",
    "Pour ce faire, vous recevrez une série d'instructions qui vous guideront dans la création d'un système orienté objet qui traite ces données.\n",
    "\n",
    "À partir de l’ensemble de données contenu dans le fichier \"dialogs_movies.zip\", vous devez construire un système orienté object qui traite ces données de la façon suivante:\n",
    "\n",
    "1. Traiter les fichiers txt en extrayant les différents mots dans les dialogues.\n",
    "2. Désambiguïser les dialogues à l'aide de [pywsd](https://github.com/alvations/pywsd) (à installer avec cette commande `pip3 install pywsd==1.0.2`\n",
    "3. Organiser les données et les résultats obtenus [voir exemple de l'ouput de pywsd](./data/examples/example_disamb.txt) dans des dataframes\n",
    "4. Trouver un matching entre les synsets e le vocabulaire contenu in [senticnet.py](./senticnet.py)\n",
    "5. Si la correspondance n'est pas trouvée, il faut essayer de trouver un matching avec les synonymes proposés par senticnet (voir les éléments de la liste 'semantics1', 'semantics2',etc)\n",
    "6. Si la correspondance n'est pas encore trouvée, il faut alors rechercher des synonymes dans le Wordnet pour ce même synset afin d'essayer de rechercher la correspondance sur ces synonymes [voir ici comment faire](https://www.nltk.org/howto/wordnet.html)\n",
    "7. Récupérer les labels de l'émotions correspondantes au synset trouvé (voir les éléments de la liste 'primary_emotion', 'secondary_emotion',etc)\n",
    "8.  Calculer la totalité des mots des discours directs prononcés par chaque personnage et sauvegarder dans le dataframe\n",
    "9. Calculer la moyenne de l'ensemble des discours direct pour chaque personnage et sauvegarder dans le dataframe\n",
    "10. Calculer la moyenne de l'ensemble des discours direct pour chaque genre et sauvegarder dans le dataframe\n",
    "11. Sauvagarder dans un fichier CSV\n",
    "12. Inventer 4-5 visualisations des résultats obtenus à l'aide de la librairie [seaborn](https://seaborn.pydata.org/index.html) (comme par exemple: le nombre d'émotions dans chaque discours prononcé par chaque personnage, le pourcentage d'emotions exprimées dans la totalité des discours de chaque personnage, etc etc)\n",
    "13. Documenter le code\n",
    "14. Rédiger un rapport final du projet qui contiendra les sections suivantes:\n",
    "    * __Introduction__ : Vous expliquez ici le contexte général du projet et sa motivation.\n",
    "    * __Données et méthodes__ : Vous y donnerez une explication des données des méthodes utilisées en fournissant quelques statistiques sur les données elles-mêmes telles que le nombre de dialogues présents, le nombre de caractères, le nombre de synsets trouvés, le nombre d'étiquettes d'émotion trouvées, etc. etc. Cette section doit également montrer l'architecture du logiciel que vous avez construit.\n",
    "    * __Visualisations__ : Cette section montre et explique les différentes visualisations que vous fournirez à partir des données analysées.\n",
    "    * __Conclusions__ : Dans cette section, vous aurez la liberté de résumer ce que vous avez fait et d'ajouter quelques réflexions personnelles sur les résultats.\n",
    "\n",
    "\n",
    "Cet ensemble d'opérations doit être construit selon la modélisation de la programmation orientée objet. Vous devrez donc concevoir un objet qui sera chargé de récupérer et de manipuler les données, un autre qui sera chargé de sauvegarder les données, etc. etc.\n",
    "\n",
    "\n"
   ]
  },
  {
   "cell_type": "markdown",
   "source": [],
   "metadata": {
    "collapsed": false,
    "pycharm": {
     "name": "#%% md\n"
    }
   }
  },
  {
   "cell_type": "code",
   "execution_count": null,
   "outputs": [],
   "source": [],
   "metadata": {
    "collapsed": false,
    "pycharm": {
     "name": "#%%\n"
    }
   }
  }
 ],
 "metadata": {
  "kernelspec": {
   "display_name": "Python 3",
   "language": "python",
   "name": "python3"
  },
  "language_info": {
   "codemirror_mode": {
    "name": "ipython",
    "version": 2
   },
   "file_extension": ".py",
   "mimetype": "text/x-python",
   "name": "python",
   "nbconvert_exporter": "python",
   "pygments_lexer": "ipython2",
   "version": "2.7.6"
  }
 },
 "nbformat": 4,
 "nbformat_minor": 0
}