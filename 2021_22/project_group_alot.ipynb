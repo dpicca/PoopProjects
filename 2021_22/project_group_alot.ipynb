{
 "cells": [
  {
   "cell_type": "code",
   "execution_count": 70,
   "metadata": {
    "collapsed": true,
    "pycharm": {
     "name": "#%%\n"
    }
   },
   "outputs": [],
   "source": [
    "#import random\n",
    "\n",
    "#with open(\"../2021_22/data/dialogs_movies/Action/15minutes_dialog.txt\", \"r\") as file:\n",
    " #   my_dialog = file.read()\n",
    "  #  words = list(map(str, my_dialog.split()))\n",
    "\n",
    "   # print(random.choice(words))"
   ]
  },
  {
   "cell_type": "code",
   "execution_count": 71,
   "metadata": {
    "collapsed": false,
    "pycharm": {
     "name": "#%%\n"
    }
   },
   "outputs": [],
   "source": [
    "#for each_genre in dialogs_movies:\n",
    "    #for each_file in dialogs :\n",
    "        #readlines regex\n"
   ]
  },
  {
   "cell_type": "code",
   "execution_count": 72,
   "metadata": {
    "collapsed": false,
    "pycharm": {
     "name": "#%%\n"
    }
   },
   "outputs": [],
   "source": [
    "import os\n",
    "#import csv\n",
    "\n",
    "path = \"./data/dialogs_movies\"\n",
    "\n",
    "for folder in os.listdir(path):\n",
    "    # print(folder)\n",
    "    for file in os.listdir(path+\"/\"+folder):\n",
    "        with open(\"../2021_22/data/dialogs_movies/\"+folder+\"/\"+file, \"r\") as f :\n",
    "            document = f.read()\n",
    "\n",
    "            # Fermer après read() et stocker dans variable\n",
    "            # Stocker après dans CSV 1 script/tableau\n",
    "            #if \"speaker.found\" :\n",
    "             #   my_speeches[speaker]=\"\"\n",
    "            #elif \"speech.found\" :\n",
    "             #   my_speech [speaker]=[speech.found]\n",
    "            #else :\n",
    "                # \"not in RG\"\n",
    "             #   pass"
   ]
  },
  {
   "cell_type": "code",
   "execution_count": 73,
   "outputs": [
    {
     "name": "stdout",
     "output_type": "stream",
     "text": [
      "[('I', None), ('went', Synset('run_low.v.01')), ('to', None), ('the', None), ('bank', Synset('bank.n.09')), ('to', None), ('deposit', Synset('deposit.v.02')), ('my', None), ('money', Synset('money.n.03'))]\n"
     ]
    }
   ],
   "source": [
    "from pywsd import disambiguate\n",
    "\n",
    "print(disambiguate('I went to the bank to deposit my money'))"
   ],
   "metadata": {
    "collapsed": false,
    "pycharm": {
     "name": "#%%\n"
    }
   }
  },
  {
   "cell_type": "code",
   "execution_count": 74,
   "outputs": [
    {
     "name": "stdout",
     "output_type": "stream",
     "text": [
      "[('I', None), ('went', Synset('run_low.v.01')), ('to', None), ('the', None), ('bank', Synset('bank.n.09')), ('to', None), ('deposit', Synset('deposit.v.02')), ('my', None), ('money', Synset('money.n.03'))]\n",
      "      Word                  Synset\n",
      "0        i                    None\n",
      "1     went  Synset('run_low.v.01')\n",
      "2       to                    None\n",
      "3      the                    None\n",
      "4     bank     Synset('bank.n.09')\n",
      "5       to                    None\n",
      "6  deposit  Synset('deposit.v.02')\n",
      "7       my                    None\n",
      "8    money    Synset('money.n.03')\n"
     ]
    }
   ],
   "source": [
    "from pywsd import disambiguate\n",
    "import pandas as pd\n",
    "from nltk.corpus import wordnet as wn\n",
    "import re\n",
    "\n",
    "print(disambiguate('I went to the bank to deposit my money'))\n",
    "\n",
    "disambiguate_dialog_df = pd.DataFrame(disambiguate('i went to the bank to deposit my money'),\n",
    "                                      columns = [\"Word\", \"Synset\"])\n",
    "\n",
    "print(disambiguate_dialog_df)"
   ],
   "metadata": {
    "collapsed": false,
    "pycharm": {
     "name": "#%%\n"
    }
   }
  },
  {
   "cell_type": "code",
   "execution_count": 75,
   "outputs": [
    {
     "name": "stdout",
     "output_type": "stream",
     "text": [
      "[-0.553, 0, -0.349, 0, '#sadness', '#disgust', 'negative', -0.451, 'uncalled_for', 'unwant', 'unfriendless', 'cast_off', 'unwelcome']\n",
      "sorry\n",
      "sorry\n",
      "sorry\n",
      "sorry\n",
      "sorry\n",
      "sorry\n",
      "[-0.917, 0, -0.795, 0, '#grief', '#loathing', 'negative', -0.856, 'impudent', 'alluvial', 'brash', 'rock', 'insensitive']\n",
      "sorry\n",
      "[0, 0.253, 0.091, 0, '#serenity', '#acceptance', 'positive', 0.172, 'sticker', 'dollar_sign', 'monetary', 'value', 'money_value']\n"
     ]
    }
   ],
   "source": [
    "import senticnet\n",
    "phrase = \"abandon i went to the bank to deposit my money\"\n",
    "words = phrase.split(\" \")\n",
    "for word in words :\n",
    "    if word in senticnet.senticnet:\n",
    "        print(senticnet.senticnet[word])\n",
    "    else :\n",
    "        print(\"sorry\")"
   ],
   "metadata": {
    "collapsed": false,
    "pycharm": {
     "name": "#%%\n"
    }
   }
  },
  {
   "cell_type": "code",
   "execution_count": 93,
   "outputs": [
    {
     "name": "stdout",
     "output_type": "stream",
     "text": [
      "[]\n",
      "[\"'travel.v.01'\"]\n",
      "[]\n",
      "[]\n",
      "[\"'savings_bank.n.02'\"]\n",
      "[]\n",
      "[]\n"
     ]
    }
   ],
   "source": [
    "list_1st_emotion = []\n",
    "list_2nd_emotion = []\n",
    "\n",
    "for w in disambiguate_dialog_df[\"Word\"]:\n",
    "    #wm=w.lower()\n",
    "\n",
    "    if w in senticnet.senticnet.keys():\n",
    "        #mylist = senticnet.senticnet[wm]\n",
    "        #print(f'key for word {wm} : {senticnet.senticnet[wm]} which sentiments are : {senticnet.senticnet[wm][4]} and {mylist[5].strip(\"#\")}')\n",
    "        list_1st_emotion.append(senticnet.senticnet[w][4].strip(\"#\"))\n",
    "        list_2nd_emotion.append(senticnet.senticnet[w][5].strip(\"#\"))\n",
    "    elif w in senticnet.senticnet.values():\n",
    "        list_1st_emotion.append(senticnet.senticnet[w][4].strip(\"#\"))\n",
    "        list_2nd_emotion.append(senticnet.senticnet[w][5].strip(\"#\"))\n",
    "        print(\"Synonyme\")\n",
    "    elif w not in senticnet.senticnet.keys() and senticnet.senticnet.values() :\n",
    "        regex = re.compile(\"(?<=Synset\\()[^)]+\")\n",
    "        dis = disambiguate(w)\n",
    "        d = regex.findall(str(dis))\n",
    "        print(d)\n",
    "        #dog = wn.synset(str(d))\n",
    "        #print(dog.hypernyms())\n",
    "        list_1st_emotion.append(\"wn\")\n",
    "        list_2nd_emotion.append(\"wn\")\n",
    "    else :\n",
    "        print(\"sorry\")\n",
    "        list_1st_emotion.append(\"not found\")\n",
    "        list_2nd_emotion.append(\"not found\")\n",
    "\n",
    "disambiguate_dialog_df[\"1st Emotion\"] = list_1st_emotion\n",
    "disambiguate_dialog_df[\"2nd Emotion\"] = list_2nd_emotion\n",
    "\n",
    "#print(disambiguate_dialog_df)"
   ],
   "metadata": {
    "collapsed": false,
    "pycharm": {
     "name": "#%%\n"
    }
   }
  },
  {
   "cell_type": "code",
   "execution_count": 88,
   "outputs": [
    {
     "data": {
      "text/plain": "[Synset('canine.n.02'), Synset('domestic_animal.n.01')]"
     },
     "execution_count": 88,
     "metadata": {},
     "output_type": "execute_result"
    }
   ],
   "source": [
    "dog = wn.synset('dog.n.01')\n",
    "dog.hypernyms()"
   ],
   "metadata": {
    "collapsed": false,
    "pycharm": {
     "name": "#%%\n"
    }
   }
  },
  {
   "cell_type": "code",
   "execution_count": null,
   "outputs": [],
   "source": [],
   "metadata": {
    "collapsed": false,
    "pycharm": {
     "name": "#%%\n"
    }
   }
  },
  {
   "cell_type": "code",
   "execution_count": null,
   "outputs": [],
   "source": [],
   "metadata": {
    "collapsed": false,
    "pycharm": {
     "name": "#%%\n"
    }
   }
  }
 ],
 "metadata": {
  "kernelspec": {
   "display_name": "Python 3",
   "language": "python",
   "name": "python3"
  },
  "language_info": {
   "codemirror_mode": {
    "name": "ipython",
    "version": 2
   },
   "file_extension": ".py",
   "mimetype": "text/x-python",
   "name": "python",
   "nbconvert_exporter": "python",
   "pygments_lexer": "ipython2",
   "version": "2.7.6"
  }
 },
 "nbformat": 4,
 "nbformat_minor": 0
}