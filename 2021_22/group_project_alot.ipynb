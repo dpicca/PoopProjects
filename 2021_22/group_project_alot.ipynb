{
 "cells": [
  {
   "cell_type": "code",
   "execution_count": null,
   "metadata": {
    "collapsed": true
   },
   "outputs": [],
   "source": [
    "#open the scripts\n",
    "import os\n",
    "import csv\n",
    "\n",
    "path = \"./data/dialogs_movies\"\n",
    "\n",
    "for folder in os.listdir(path):\n",
    "    # print(folder)\n",
    "    for file in os.listdir(path + \"/\" + folder):\n",
    "        with open(\"../2021_22/data/dialogs_movies/\" + folder + \"/\" + file, \"r\") as f:\n",
    "            document = f.read()\n",
    "\n",
    "            # Fermer après read() et stocker dans variable\n",
    "            # Stocker après dans CSV 1 script/tableau\n",
    "            #if \"speaker.found\" :\n",
    "            #   my_speeches[speaker]=\"\"\n",
    "            #elif \"speech.found\" :\n",
    "            #   my_speech [speaker]=[speech.found]\n",
    "            #else :\n",
    "            # \"not in RG\"\n",
    "            #   pass"
   ]
  },
  {
   "cell_type": "code",
   "execution_count": 14,
   "outputs": [
    {
     "name": "stdout",
     "output_type": "stream",
     "text": [
      "[-0.553, 0, -0.349, 0, '#sadness', '#disgust', 'negative', -0.451, 'uncalled_for', 'unwant', 'unfriendless', 'cast_off', 'unwelcome']\n",
      "not found\n",
      "not found\n",
      "not found\n",
      "not found\n",
      "not found\n",
      "not found\n",
      "[-0.917, 0, -0.795, 0, '#grief', '#loathing', 'negative', -0.856, 'impudent', 'alluvial', 'brash', 'rock', 'insensitive']\n",
      "not found\n",
      "[0, 0.253, 0.091, 0, '#serenity', '#acceptance', 'positive', 0.172, 'sticker', 'dollar_sign', 'monetary', 'value', 'money_value']\n"
     ]
    }
   ],
   "source": [
    "#disambiguiate string\n",
    "from pywsd import disambiguate\n",
    "import pandas as pd\n",
    "#search in senticnet\n",
    "import senticnet\n",
    "\n",
    "disambiguate_dialog_df = pd.DataFrame(disambiguate('abandon I went to the bank to deposit my money'),\n",
    "                                      columns = [\"Word\", \"Synset\"])\n",
    "\n",
    "\n",
    "for w in disambiguate_dialog_df[\"Word\"]:\n",
    "    if w in senticnet.senticnet:\n",
    "        print(senticnet.senticnet[w])\n",
    "    else:\n",
    "        print(\"not found\")\n",
    "\n",
    "\n"
   ],
   "metadata": {
    "collapsed": false,
    "pycharm": {
     "name": "#%%\n"
    }
   }
  },
  {
   "cell_type": "code",
   "execution_count": 1,
   "outputs": [
    {
     "data": {
      "text/plain": "[-0.553,\n 0,\n -0.349,\n 0,\n '#sadness',\n '#disgust',\n 'negative',\n -0.451,\n 'uncalled_for',\n 'unwant',\n 'unfriendless',\n 'cast_off',\n 'unwelcome']"
     },
     "execution_count": 1,
     "metadata": {},
     "output_type": "execute_result"
    }
   ],
   "source": [
    "#search in senticnet\n",
    "#import senticnet\n",
    "#senticnet.senticnet['abandon']"
   ],
   "metadata": {
    "collapsed": false,
    "pycharm": {
     "name": "#%%\n"
    }
   }
  },
  {
   "cell_type": "code",
   "execution_count": null,
   "outputs": [],
   "source": [],
   "metadata": {
    "collapsed": false,
    "pycharm": {
     "name": "#%%\n"
    }
   }
  }
 ],
 "metadata": {
  "kernelspec": {
   "display_name": "Python 3",
   "language": "python",
   "name": "python3"
  },
  "language_info": {
   "codemirror_mode": {
    "name": "ipython",
    "version": 2
   },
   "file_extension": ".py",
   "mimetype": "text/x-python",
   "name": "python",
   "nbconvert_exporter": "python",
   "pygments_lexer": "ipython2",
   "version": "2.7.6"
  }
 },
 "nbformat": 4,
 "nbformat_minor": 0
}