{
 "cells": [
  {
   "cell_type": "code",
   "execution_count": null,
   "metadata": {
    "collapsed": true
   },
   "outputs": [],
   "source": [
    "#open the scripts\n",
    "import os\n",
    "import csv\n",
    "\n",
    "path = \"./data/dialogs_movies\"\n",
    "\n",
    "for folder in os.listdir(path):\n",
    "    # print(folder)\n",
    "    for file in os.listdir(path + \"/\" + folder):\n",
    "        with open(\"../2021_22/data/dialogs_movies/\" + folder + \"/\" + file, \"r\") as f:\n",
    "            document = f.read()\n",
    "\n",
    "            # Fermer après read() et stocker dans variable\n",
    "            # Stocker après dans CSV 1 script/tableau\n",
    "            #if \"speaker.found\" :\n",
    "            #   my_speeches[speaker]=\"\"\n",
    "            #elif \"speech.found\" :\n",
    "            #   my_speech [speaker]=[speech.found]\n",
    "            #else :\n",
    "            # \"not in RG\"\n",
    "            #   pass"
   ]
  },
  {
   "cell_type": "code",
   "execution_count": 19,
   "outputs": [
    {
     "ename": "UndefinedVariableError",
     "evalue": "name 'I' is not defined",
     "output_type": "error",
     "traceback": [
      "\u001B[0;31m---------------------------------------------------------------------------\u001B[0m",
      "\u001B[0;31mKeyError\u001B[0m                                  Traceback (most recent call last)",
      "File \u001B[0;32m~/PycharmProjects/PoopProjects1/PoopProjects/lib/python3.8/site-packages/pandas/core/computation/scope.py:195\u001B[0m, in \u001B[0;36mScope.resolve\u001B[0;34m(self, key, is_local)\u001B[0m\n\u001B[1;32m    194\u001B[0m \u001B[38;5;28;01mif\u001B[39;00m \u001B[38;5;28mself\u001B[39m\u001B[38;5;241m.\u001B[39mhas_resolvers:\n\u001B[0;32m--> 195\u001B[0m     \u001B[38;5;28;01mreturn\u001B[39;00m \u001B[38;5;28;43mself\u001B[39;49m\u001B[38;5;241;43m.\u001B[39;49m\u001B[43mresolvers\u001B[49m\u001B[43m[\u001B[49m\u001B[43mkey\u001B[49m\u001B[43m]\u001B[49m\n\u001B[1;32m    197\u001B[0m \u001B[38;5;66;03m# if we're here that means that we have no locals and we also have\u001B[39;00m\n\u001B[1;32m    198\u001B[0m \u001B[38;5;66;03m# no resolvers\u001B[39;00m\n",
      "File \u001B[0;32m/Library/Developer/CommandLineTools/Library/Frameworks/Python3.framework/Versions/3.8/lib/python3.8/collections/__init__.py:891\u001B[0m, in \u001B[0;36mChainMap.__getitem__\u001B[0;34m(self, key)\u001B[0m\n\u001B[1;32m    890\u001B[0m         \u001B[38;5;28;01mpass\u001B[39;00m\n\u001B[0;32m--> 891\u001B[0m \u001B[38;5;28;01mreturn\u001B[39;00m \u001B[38;5;28;43mself\u001B[39;49m\u001B[38;5;241;43m.\u001B[39;49m\u001B[38;5;21;43m__missing__\u001B[39;49m\u001B[43m(\u001B[49m\u001B[43mkey\u001B[49m\u001B[43m)\u001B[49m\n",
      "File \u001B[0;32m/Library/Developer/CommandLineTools/Library/Frameworks/Python3.framework/Versions/3.8/lib/python3.8/collections/__init__.py:883\u001B[0m, in \u001B[0;36mChainMap.__missing__\u001B[0;34m(self, key)\u001B[0m\n\u001B[1;32m    882\u001B[0m \u001B[38;5;28;01mdef\u001B[39;00m \u001B[38;5;21m__missing__\u001B[39m(\u001B[38;5;28mself\u001B[39m, key):\n\u001B[0;32m--> 883\u001B[0m     \u001B[38;5;28;01mraise\u001B[39;00m \u001B[38;5;167;01mKeyError\u001B[39;00m(key)\n",
      "\u001B[0;31mKeyError\u001B[0m: 'I'",
      "\nDuring handling of the above exception, another exception occurred:\n",
      "\u001B[0;31mKeyError\u001B[0m                                  Traceback (most recent call last)",
      "File \u001B[0;32m~/PycharmProjects/PoopProjects1/PoopProjects/lib/python3.8/site-packages/pandas/core/computation/scope.py:206\u001B[0m, in \u001B[0;36mScope.resolve\u001B[0;34m(self, key, is_local)\u001B[0m\n\u001B[1;32m    202\u001B[0m \u001B[38;5;28;01mtry\u001B[39;00m:\n\u001B[1;32m    203\u001B[0m     \u001B[38;5;66;03m# last ditch effort we look in temporaries\u001B[39;00m\n\u001B[1;32m    204\u001B[0m     \u001B[38;5;66;03m# these are created when parsing indexing expressions\u001B[39;00m\n\u001B[1;32m    205\u001B[0m     \u001B[38;5;66;03m# e.g., df[df > 0]\u001B[39;00m\n\u001B[0;32m--> 206\u001B[0m     \u001B[38;5;28;01mreturn\u001B[39;00m \u001B[38;5;28;43mself\u001B[39;49m\u001B[38;5;241;43m.\u001B[39;49m\u001B[43mtemps\u001B[49m\u001B[43m[\u001B[49m\u001B[43mkey\u001B[49m\u001B[43m]\u001B[49m\n\u001B[1;32m    207\u001B[0m \u001B[38;5;28;01mexcept\u001B[39;00m \u001B[38;5;167;01mKeyError\u001B[39;00m \u001B[38;5;28;01mas\u001B[39;00m err:\n\u001B[1;32m    208\u001B[0m     \u001B[38;5;66;03m# runtime import because ops imports from scope\u001B[39;00m\n",
      "\u001B[0;31mKeyError\u001B[0m: 'I'",
      "\nThe above exception was the direct cause of the following exception:\n",
      "\u001B[0;31mUndefinedVariableError\u001B[0m                    Traceback (most recent call last)",
      "Input \u001B[0;32mIn [19]\u001B[0m, in \u001B[0;36m<cell line: 15>\u001B[0;34m()\u001B[0m\n\u001B[1;32m     21\u001B[0m     list_2nd_emotion\u001B[38;5;241m.\u001B[39mappend(senticnet\u001B[38;5;241m.\u001B[39msenticnet[word][\u001B[38;5;241m5\u001B[39m])\n\u001B[1;32m     22\u001B[0m \u001B[38;5;28;01melif\u001B[39;00m word \u001B[38;5;129;01mnot\u001B[39;00m \u001B[38;5;129;01min\u001B[39;00m senticnet\u001B[38;5;241m.\u001B[39msenticnet\u001B[38;5;241m.\u001B[39mkeys() \u001B[38;5;129;01mand\u001B[39;00m senticnet\u001B[38;5;241m.\u001B[39msenticnet\u001B[38;5;241m.\u001B[39mvalues():\n\u001B[1;32m     23\u001B[0m     \u001B[38;5;66;03m#prendre le meaning dans la colonne synset\u001B[39;00m\n\u001B[0;32m---> 24\u001B[0m     syns \u001B[38;5;241m=\u001B[39m \u001B[43mdisambiguate_dialog_df\u001B[49m\u001B[38;5;241;43m.\u001B[39;49m\u001B[43mquery\u001B[49m\u001B[43m(\u001B[49m\u001B[43mword\u001B[49m\u001B[43m)\u001B[49m[\u001B[38;5;124m\"\u001B[39m\u001B[38;5;124mSynset\u001B[39m\u001B[38;5;124m\"\u001B[39m]\n\u001B[1;32m     25\u001B[0m     regex \u001B[38;5;241m=\u001B[39m re\u001B[38;5;241m.\u001B[39mcompile(\u001B[38;5;124m\"\u001B[39m\u001B[38;5;124m(?<=Synset\u001B[39m\u001B[38;5;124m\\\u001B[39m\u001B[38;5;124m()[^]+)\u001B[39m\u001B[38;5;124m\"\u001B[39m)\n\u001B[1;32m     26\u001B[0m     matches \u001B[38;5;241m=\u001B[39m regex\u001B[38;5;241m.\u001B[39msearch(syns)\n",
      "File \u001B[0;32m~/PycharmProjects/PoopProjects1/PoopProjects/lib/python3.8/site-packages/pandas/core/frame.py:4111\u001B[0m, in \u001B[0;36mDataFrame.query\u001B[0;34m(self, expr, inplace, **kwargs)\u001B[0m\n\u001B[1;32m   4109\u001B[0m kwargs[\u001B[38;5;124m\"\u001B[39m\u001B[38;5;124mlevel\u001B[39m\u001B[38;5;124m\"\u001B[39m] \u001B[38;5;241m=\u001B[39m kwargs\u001B[38;5;241m.\u001B[39mpop(\u001B[38;5;124m\"\u001B[39m\u001B[38;5;124mlevel\u001B[39m\u001B[38;5;124m\"\u001B[39m, \u001B[38;5;241m0\u001B[39m) \u001B[38;5;241m+\u001B[39m \u001B[38;5;241m1\u001B[39m\n\u001B[1;32m   4110\u001B[0m kwargs[\u001B[38;5;124m\"\u001B[39m\u001B[38;5;124mtarget\u001B[39m\u001B[38;5;124m\"\u001B[39m] \u001B[38;5;241m=\u001B[39m \u001B[38;5;28;01mNone\u001B[39;00m\n\u001B[0;32m-> 4111\u001B[0m res \u001B[38;5;241m=\u001B[39m \u001B[38;5;28;43mself\u001B[39;49m\u001B[38;5;241;43m.\u001B[39;49m\u001B[43meval\u001B[49m\u001B[43m(\u001B[49m\u001B[43mexpr\u001B[49m\u001B[43m,\u001B[49m\u001B[43m \u001B[49m\u001B[38;5;241;43m*\u001B[39;49m\u001B[38;5;241;43m*\u001B[39;49m\u001B[43mkwargs\u001B[49m\u001B[43m)\u001B[49m\n\u001B[1;32m   4113\u001B[0m \u001B[38;5;28;01mtry\u001B[39;00m:\n\u001B[1;32m   4114\u001B[0m     result \u001B[38;5;241m=\u001B[39m \u001B[38;5;28mself\u001B[39m\u001B[38;5;241m.\u001B[39mloc[res]\n",
      "File \u001B[0;32m~/PycharmProjects/PoopProjects1/PoopProjects/lib/python3.8/site-packages/pandas/core/frame.py:4240\u001B[0m, in \u001B[0;36mDataFrame.eval\u001B[0;34m(self, expr, inplace, **kwargs)\u001B[0m\n\u001B[1;32m   4237\u001B[0m     kwargs[\u001B[38;5;124m\"\u001B[39m\u001B[38;5;124mtarget\u001B[39m\u001B[38;5;124m\"\u001B[39m] \u001B[38;5;241m=\u001B[39m \u001B[38;5;28mself\u001B[39m\n\u001B[1;32m   4238\u001B[0m kwargs[\u001B[38;5;124m\"\u001B[39m\u001B[38;5;124mresolvers\u001B[39m\u001B[38;5;124m\"\u001B[39m] \u001B[38;5;241m=\u001B[39m \u001B[38;5;28mtuple\u001B[39m(kwargs\u001B[38;5;241m.\u001B[39mget(\u001B[38;5;124m\"\u001B[39m\u001B[38;5;124mresolvers\u001B[39m\u001B[38;5;124m\"\u001B[39m, ())) \u001B[38;5;241m+\u001B[39m resolvers\n\u001B[0;32m-> 4240\u001B[0m \u001B[38;5;28;01mreturn\u001B[39;00m \u001B[43m_eval\u001B[49m\u001B[43m(\u001B[49m\u001B[43mexpr\u001B[49m\u001B[43m,\u001B[49m\u001B[43m \u001B[49m\u001B[43minplace\u001B[49m\u001B[38;5;241;43m=\u001B[39;49m\u001B[43minplace\u001B[49m\u001B[43m,\u001B[49m\u001B[43m \u001B[49m\u001B[38;5;241;43m*\u001B[39;49m\u001B[38;5;241;43m*\u001B[39;49m\u001B[43mkwargs\u001B[49m\u001B[43m)\u001B[49m\n",
      "File \u001B[0;32m~/PycharmProjects/PoopProjects1/PoopProjects/lib/python3.8/site-packages/pandas/core/computation/eval.py:350\u001B[0m, in \u001B[0;36meval\u001B[0;34m(expr, parser, engine, truediv, local_dict, global_dict, resolvers, level, target, inplace)\u001B[0m\n\u001B[1;32m    341\u001B[0m \u001B[38;5;66;03m# get our (possibly passed-in) scope\u001B[39;00m\n\u001B[1;32m    342\u001B[0m env \u001B[38;5;241m=\u001B[39m ensure_scope(\n\u001B[1;32m    343\u001B[0m     level \u001B[38;5;241m+\u001B[39m \u001B[38;5;241m1\u001B[39m,\n\u001B[1;32m    344\u001B[0m     global_dict\u001B[38;5;241m=\u001B[39mglobal_dict,\n\u001B[0;32m   (...)\u001B[0m\n\u001B[1;32m    347\u001B[0m     target\u001B[38;5;241m=\u001B[39mtarget,\n\u001B[1;32m    348\u001B[0m )\n\u001B[0;32m--> 350\u001B[0m parsed_expr \u001B[38;5;241m=\u001B[39m \u001B[43mExpr\u001B[49m\u001B[43m(\u001B[49m\u001B[43mexpr\u001B[49m\u001B[43m,\u001B[49m\u001B[43m \u001B[49m\u001B[43mengine\u001B[49m\u001B[38;5;241;43m=\u001B[39;49m\u001B[43mengine\u001B[49m\u001B[43m,\u001B[49m\u001B[43m \u001B[49m\u001B[43mparser\u001B[49m\u001B[38;5;241;43m=\u001B[39;49m\u001B[43mparser\u001B[49m\u001B[43m,\u001B[49m\u001B[43m \u001B[49m\u001B[43menv\u001B[49m\u001B[38;5;241;43m=\u001B[39;49m\u001B[43menv\u001B[49m\u001B[43m)\u001B[49m\n\u001B[1;32m    352\u001B[0m \u001B[38;5;66;03m# construct the engine and evaluate the parsed expression\u001B[39;00m\n\u001B[1;32m    353\u001B[0m eng \u001B[38;5;241m=\u001B[39m ENGINES[engine]\n",
      "File \u001B[0;32m~/PycharmProjects/PoopProjects1/PoopProjects/lib/python3.8/site-packages/pandas/core/computation/expr.py:811\u001B[0m, in \u001B[0;36mExpr.__init__\u001B[0;34m(self, expr, engine, parser, env, level)\u001B[0m\n\u001B[1;32m    809\u001B[0m \u001B[38;5;28mself\u001B[39m\u001B[38;5;241m.\u001B[39mparser \u001B[38;5;241m=\u001B[39m parser\n\u001B[1;32m    810\u001B[0m \u001B[38;5;28mself\u001B[39m\u001B[38;5;241m.\u001B[39m_visitor \u001B[38;5;241m=\u001B[39m PARSERS[parser](\u001B[38;5;28mself\u001B[39m\u001B[38;5;241m.\u001B[39menv, \u001B[38;5;28mself\u001B[39m\u001B[38;5;241m.\u001B[39mengine, \u001B[38;5;28mself\u001B[39m\u001B[38;5;241m.\u001B[39mparser)\n\u001B[0;32m--> 811\u001B[0m \u001B[38;5;28mself\u001B[39m\u001B[38;5;241m.\u001B[39mterms \u001B[38;5;241m=\u001B[39m \u001B[38;5;28;43mself\u001B[39;49m\u001B[38;5;241;43m.\u001B[39;49m\u001B[43mparse\u001B[49m\u001B[43m(\u001B[49m\u001B[43m)\u001B[49m\n",
      "File \u001B[0;32m~/PycharmProjects/PoopProjects1/PoopProjects/lib/python3.8/site-packages/pandas/core/computation/expr.py:830\u001B[0m, in \u001B[0;36mExpr.parse\u001B[0;34m(self)\u001B[0m\n\u001B[1;32m    826\u001B[0m \u001B[38;5;28;01mdef\u001B[39;00m \u001B[38;5;21mparse\u001B[39m(\u001B[38;5;28mself\u001B[39m):\n\u001B[1;32m    827\u001B[0m     \u001B[38;5;124;03m\"\"\"\u001B[39;00m\n\u001B[1;32m    828\u001B[0m \u001B[38;5;124;03m    Parse an expression.\u001B[39;00m\n\u001B[1;32m    829\u001B[0m \u001B[38;5;124;03m    \"\"\"\u001B[39;00m\n\u001B[0;32m--> 830\u001B[0m     \u001B[38;5;28;01mreturn\u001B[39;00m \u001B[38;5;28;43mself\u001B[39;49m\u001B[38;5;241;43m.\u001B[39;49m\u001B[43m_visitor\u001B[49m\u001B[38;5;241;43m.\u001B[39;49m\u001B[43mvisit\u001B[49m\u001B[43m(\u001B[49m\u001B[38;5;28;43mself\u001B[39;49m\u001B[38;5;241;43m.\u001B[39;49m\u001B[43mexpr\u001B[49m\u001B[43m)\u001B[49m\n",
      "File \u001B[0;32m~/PycharmProjects/PoopProjects1/PoopProjects/lib/python3.8/site-packages/pandas/core/computation/expr.py:415\u001B[0m, in \u001B[0;36mBaseExprVisitor.visit\u001B[0;34m(self, node, **kwargs)\u001B[0m\n\u001B[1;32m    413\u001B[0m method \u001B[38;5;241m=\u001B[39m \u001B[38;5;124m\"\u001B[39m\u001B[38;5;124mvisit_\u001B[39m\u001B[38;5;124m\"\u001B[39m \u001B[38;5;241m+\u001B[39m \u001B[38;5;28mtype\u001B[39m(node)\u001B[38;5;241m.\u001B[39m\u001B[38;5;18m__name__\u001B[39m\n\u001B[1;32m    414\u001B[0m visitor \u001B[38;5;241m=\u001B[39m \u001B[38;5;28mgetattr\u001B[39m(\u001B[38;5;28mself\u001B[39m, method)\n\u001B[0;32m--> 415\u001B[0m \u001B[38;5;28;01mreturn\u001B[39;00m \u001B[43mvisitor\u001B[49m\u001B[43m(\u001B[49m\u001B[43mnode\u001B[49m\u001B[43m,\u001B[49m\u001B[43m \u001B[49m\u001B[38;5;241;43m*\u001B[39;49m\u001B[38;5;241;43m*\u001B[39;49m\u001B[43mkwargs\u001B[49m\u001B[43m)\u001B[49m\n",
      "File \u001B[0;32m~/PycharmProjects/PoopProjects1/PoopProjects/lib/python3.8/site-packages/pandas/core/computation/expr.py:421\u001B[0m, in \u001B[0;36mBaseExprVisitor.visit_Module\u001B[0;34m(self, node, **kwargs)\u001B[0m\n\u001B[1;32m    419\u001B[0m     \u001B[38;5;28;01mraise\u001B[39;00m \u001B[38;5;167;01mSyntaxError\u001B[39;00m(\u001B[38;5;124m\"\u001B[39m\u001B[38;5;124monly a single expression is allowed\u001B[39m\u001B[38;5;124m\"\u001B[39m)\n\u001B[1;32m    420\u001B[0m expr \u001B[38;5;241m=\u001B[39m node\u001B[38;5;241m.\u001B[39mbody[\u001B[38;5;241m0\u001B[39m]\n\u001B[0;32m--> 421\u001B[0m \u001B[38;5;28;01mreturn\u001B[39;00m \u001B[38;5;28;43mself\u001B[39;49m\u001B[38;5;241;43m.\u001B[39;49m\u001B[43mvisit\u001B[49m\u001B[43m(\u001B[49m\u001B[43mexpr\u001B[49m\u001B[43m,\u001B[49m\u001B[43m \u001B[49m\u001B[38;5;241;43m*\u001B[39;49m\u001B[38;5;241;43m*\u001B[39;49m\u001B[43mkwargs\u001B[49m\u001B[43m)\u001B[49m\n",
      "File \u001B[0;32m~/PycharmProjects/PoopProjects1/PoopProjects/lib/python3.8/site-packages/pandas/core/computation/expr.py:415\u001B[0m, in \u001B[0;36mBaseExprVisitor.visit\u001B[0;34m(self, node, **kwargs)\u001B[0m\n\u001B[1;32m    413\u001B[0m method \u001B[38;5;241m=\u001B[39m \u001B[38;5;124m\"\u001B[39m\u001B[38;5;124mvisit_\u001B[39m\u001B[38;5;124m\"\u001B[39m \u001B[38;5;241m+\u001B[39m \u001B[38;5;28mtype\u001B[39m(node)\u001B[38;5;241m.\u001B[39m\u001B[38;5;18m__name__\u001B[39m\n\u001B[1;32m    414\u001B[0m visitor \u001B[38;5;241m=\u001B[39m \u001B[38;5;28mgetattr\u001B[39m(\u001B[38;5;28mself\u001B[39m, method)\n\u001B[0;32m--> 415\u001B[0m \u001B[38;5;28;01mreturn\u001B[39;00m \u001B[43mvisitor\u001B[49m\u001B[43m(\u001B[49m\u001B[43mnode\u001B[49m\u001B[43m,\u001B[49m\u001B[43m \u001B[49m\u001B[38;5;241;43m*\u001B[39;49m\u001B[38;5;241;43m*\u001B[39;49m\u001B[43mkwargs\u001B[49m\u001B[43m)\u001B[49m\n",
      "File \u001B[0;32m~/PycharmProjects/PoopProjects1/PoopProjects/lib/python3.8/site-packages/pandas/core/computation/expr.py:424\u001B[0m, in \u001B[0;36mBaseExprVisitor.visit_Expr\u001B[0;34m(self, node, **kwargs)\u001B[0m\n\u001B[1;32m    423\u001B[0m \u001B[38;5;28;01mdef\u001B[39;00m \u001B[38;5;21mvisit_Expr\u001B[39m(\u001B[38;5;28mself\u001B[39m, node, \u001B[38;5;241m*\u001B[39m\u001B[38;5;241m*\u001B[39mkwargs):\n\u001B[0;32m--> 424\u001B[0m     \u001B[38;5;28;01mreturn\u001B[39;00m \u001B[38;5;28;43mself\u001B[39;49m\u001B[38;5;241;43m.\u001B[39;49m\u001B[43mvisit\u001B[49m\u001B[43m(\u001B[49m\u001B[43mnode\u001B[49m\u001B[38;5;241;43m.\u001B[39;49m\u001B[43mvalue\u001B[49m\u001B[43m,\u001B[49m\u001B[43m \u001B[49m\u001B[38;5;241;43m*\u001B[39;49m\u001B[38;5;241;43m*\u001B[39;49m\u001B[43mkwargs\u001B[49m\u001B[43m)\u001B[49m\n",
      "File \u001B[0;32m~/PycharmProjects/PoopProjects1/PoopProjects/lib/python3.8/site-packages/pandas/core/computation/expr.py:415\u001B[0m, in \u001B[0;36mBaseExprVisitor.visit\u001B[0;34m(self, node, **kwargs)\u001B[0m\n\u001B[1;32m    413\u001B[0m method \u001B[38;5;241m=\u001B[39m \u001B[38;5;124m\"\u001B[39m\u001B[38;5;124mvisit_\u001B[39m\u001B[38;5;124m\"\u001B[39m \u001B[38;5;241m+\u001B[39m \u001B[38;5;28mtype\u001B[39m(node)\u001B[38;5;241m.\u001B[39m\u001B[38;5;18m__name__\u001B[39m\n\u001B[1;32m    414\u001B[0m visitor \u001B[38;5;241m=\u001B[39m \u001B[38;5;28mgetattr\u001B[39m(\u001B[38;5;28mself\u001B[39m, method)\n\u001B[0;32m--> 415\u001B[0m \u001B[38;5;28;01mreturn\u001B[39;00m \u001B[43mvisitor\u001B[49m\u001B[43m(\u001B[49m\u001B[43mnode\u001B[49m\u001B[43m,\u001B[49m\u001B[43m \u001B[49m\u001B[38;5;241;43m*\u001B[39;49m\u001B[38;5;241;43m*\u001B[39;49m\u001B[43mkwargs\u001B[49m\u001B[43m)\u001B[49m\n",
      "File \u001B[0;32m~/PycharmProjects/PoopProjects1/PoopProjects/lib/python3.8/site-packages/pandas/core/computation/expr.py:549\u001B[0m, in \u001B[0;36mBaseExprVisitor.visit_Name\u001B[0;34m(self, node, **kwargs)\u001B[0m\n\u001B[1;32m    548\u001B[0m \u001B[38;5;28;01mdef\u001B[39;00m \u001B[38;5;21mvisit_Name\u001B[39m(\u001B[38;5;28mself\u001B[39m, node, \u001B[38;5;241m*\u001B[39m\u001B[38;5;241m*\u001B[39mkwargs):\n\u001B[0;32m--> 549\u001B[0m     \u001B[38;5;28;01mreturn\u001B[39;00m \u001B[38;5;28;43mself\u001B[39;49m\u001B[38;5;241;43m.\u001B[39;49m\u001B[43mterm_type\u001B[49m\u001B[43m(\u001B[49m\u001B[43mnode\u001B[49m\u001B[38;5;241;43m.\u001B[39;49m\u001B[43mid\u001B[49m\u001B[43m,\u001B[49m\u001B[43m \u001B[49m\u001B[38;5;28;43mself\u001B[39;49m\u001B[38;5;241;43m.\u001B[39;49m\u001B[43menv\u001B[49m\u001B[43m,\u001B[49m\u001B[43m \u001B[49m\u001B[38;5;241;43m*\u001B[39;49m\u001B[38;5;241;43m*\u001B[39;49m\u001B[43mkwargs\u001B[49m\u001B[43m)\u001B[49m\n",
      "File \u001B[0;32m~/PycharmProjects/PoopProjects1/PoopProjects/lib/python3.8/site-packages/pandas/core/computation/ops.py:98\u001B[0m, in \u001B[0;36mTerm.__init__\u001B[0;34m(self, name, env, side, encoding)\u001B[0m\n\u001B[1;32m     96\u001B[0m tname \u001B[38;5;241m=\u001B[39m \u001B[38;5;28mstr\u001B[39m(name)\n\u001B[1;32m     97\u001B[0m \u001B[38;5;28mself\u001B[39m\u001B[38;5;241m.\u001B[39mis_local \u001B[38;5;241m=\u001B[39m tname\u001B[38;5;241m.\u001B[39mstartswith(LOCAL_TAG) \u001B[38;5;129;01mor\u001B[39;00m tname \u001B[38;5;129;01min\u001B[39;00m DEFAULT_GLOBALS\n\u001B[0;32m---> 98\u001B[0m \u001B[38;5;28mself\u001B[39m\u001B[38;5;241m.\u001B[39m_value \u001B[38;5;241m=\u001B[39m \u001B[38;5;28;43mself\u001B[39;49m\u001B[38;5;241;43m.\u001B[39;49m\u001B[43m_resolve_name\u001B[49m\u001B[43m(\u001B[49m\u001B[43m)\u001B[49m\n\u001B[1;32m     99\u001B[0m \u001B[38;5;28mself\u001B[39m\u001B[38;5;241m.\u001B[39mencoding \u001B[38;5;241m=\u001B[39m encoding\n",
      "File \u001B[0;32m~/PycharmProjects/PoopProjects1/PoopProjects/lib/python3.8/site-packages/pandas/core/computation/ops.py:115\u001B[0m, in \u001B[0;36mTerm._resolve_name\u001B[0;34m(self)\u001B[0m\n\u001B[1;32m    114\u001B[0m \u001B[38;5;28;01mdef\u001B[39;00m \u001B[38;5;21m_resolve_name\u001B[39m(\u001B[38;5;28mself\u001B[39m):\n\u001B[0;32m--> 115\u001B[0m     res \u001B[38;5;241m=\u001B[39m \u001B[38;5;28;43mself\u001B[39;49m\u001B[38;5;241;43m.\u001B[39;49m\u001B[43menv\u001B[49m\u001B[38;5;241;43m.\u001B[39;49m\u001B[43mresolve\u001B[49m\u001B[43m(\u001B[49m\u001B[38;5;28;43mself\u001B[39;49m\u001B[38;5;241;43m.\u001B[39;49m\u001B[43mlocal_name\u001B[49m\u001B[43m,\u001B[49m\u001B[43m \u001B[49m\u001B[43mis_local\u001B[49m\u001B[38;5;241;43m=\u001B[39;49m\u001B[38;5;28;43mself\u001B[39;49m\u001B[38;5;241;43m.\u001B[39;49m\u001B[43mis_local\u001B[49m\u001B[43m)\u001B[49m\n\u001B[1;32m    116\u001B[0m     \u001B[38;5;28mself\u001B[39m\u001B[38;5;241m.\u001B[39mupdate(res)\n\u001B[1;32m    118\u001B[0m     \u001B[38;5;28;01mif\u001B[39;00m \u001B[38;5;28mhasattr\u001B[39m(res, \u001B[38;5;124m\"\u001B[39m\u001B[38;5;124mndim\u001B[39m\u001B[38;5;124m\"\u001B[39m) \u001B[38;5;129;01mand\u001B[39;00m res\u001B[38;5;241m.\u001B[39mndim \u001B[38;5;241m>\u001B[39m \u001B[38;5;241m2\u001B[39m:\n",
      "File \u001B[0;32m~/PycharmProjects/PoopProjects1/PoopProjects/lib/python3.8/site-packages/pandas/core/computation/scope.py:211\u001B[0m, in \u001B[0;36mScope.resolve\u001B[0;34m(self, key, is_local)\u001B[0m\n\u001B[1;32m    207\u001B[0m \u001B[38;5;28;01mexcept\u001B[39;00m \u001B[38;5;167;01mKeyError\u001B[39;00m \u001B[38;5;28;01mas\u001B[39;00m err:\n\u001B[1;32m    208\u001B[0m     \u001B[38;5;66;03m# runtime import because ops imports from scope\u001B[39;00m\n\u001B[1;32m    209\u001B[0m     \u001B[38;5;28;01mfrom\u001B[39;00m \u001B[38;5;21;01mpandas\u001B[39;00m\u001B[38;5;21;01m.\u001B[39;00m\u001B[38;5;21;01mcore\u001B[39;00m\u001B[38;5;21;01m.\u001B[39;00m\u001B[38;5;21;01mcomputation\u001B[39;00m\u001B[38;5;21;01m.\u001B[39;00m\u001B[38;5;21;01mops\u001B[39;00m \u001B[38;5;28;01mimport\u001B[39;00m UndefinedVariableError\n\u001B[0;32m--> 211\u001B[0m     \u001B[38;5;28;01mraise\u001B[39;00m UndefinedVariableError(key, is_local) \u001B[38;5;28;01mfrom\u001B[39;00m \u001B[38;5;21;01merr\u001B[39;00m\n",
      "\u001B[0;31mUndefinedVariableError\u001B[0m: name 'I' is not defined"
     ]
    }
   ],
   "source": [
    "#disambiguiate string\n",
    "from pywsd import disambiguate\n",
    "import pandas as pd\n",
    "#search in senticnet\n",
    "import senticnet\n",
    "from nltk.corpus import wordnet as wn\n",
    "import re\n",
    "\n",
    "disambiguate_dialog_df = pd.DataFrame(disambiguate('abandon I went to the bank to deposit my money'),\n",
    "                                      columns = [\"Word\", \"Synset\"])\n",
    "\n",
    "list_1st_emotion = []\n",
    "list_2nd_emotion = []\n",
    "list_synonyms = []\n",
    "for word in disambiguate_dialog_df[\"Word\"]:\n",
    "    if word in senticnet.senticnet.keys():\n",
    "        list_1st_emotion.append(senticnet.senticnet[word][4])\n",
    "        list_2nd_emotion.append(senticnet.senticnet[word][5])\n",
    "    elif word in senticnet.senticnet.values():\n",
    "        list_1st_emotion.append(senticnet.senticnet[word][4])\n",
    "        list_2nd_emotion.append(senticnet.senticnet[word][5])\n",
    "    elif word not in senticnet.senticnet.keys() and senticnet.senticnet.values():\n",
    "        #prendre le meaning dans la colonne synset\n",
    "        syns = disambiguate_dialog_df.query(word)[\"Synset\"]\n",
    "        regex = re.compile(\"(?<=Synset\\()[^]+)\")\n",
    "        matches = regex.search(syns)\n",
    "        list_synonyms.append(matches)\n",
    "\n",
    "\n",
    "    else:\n",
    "        list_1st_emotion.append(\"not found\")\n",
    "        list_2nd_emotion.append(\"not found\")\n",
    "        list_synonyms.append(\"not found\")\n",
    "\n",
    "\n",
    "\n",
    "\n",
    "disambiguate_dialog_df[\"1st Emotion\"] = list_1st_emotion\n",
    "disambiguate_dialog_df[\"2nd Emotion\"] = list_2nd_emotion\n",
    "disambiguate_dialog_df[\"Synonyms\"] = list_synonyms\n",
    "\n",
    "print(disambiguate_dialog_df)\n",
    "\n",
    "word = wn.synset('wildness.n.01')\n",
    "synonym = word.hypernyms()\n",
    "print(synonym)\n",
    "\n"
   ],
   "metadata": {
    "collapsed": false,
    "pycharm": {
     "name": "#%%\n"
    }
   }
  },
  {
   "cell_type": "code",
   "execution_count": 1,
   "outputs": [
    {
     "data": {
      "text/plain": "[-0.553,\n 0,\n -0.349,\n 0,\n '#sadness',\n '#disgust',\n 'negative',\n -0.451,\n 'uncalled_for',\n 'unwant',\n 'unfriendless',\n 'cast_off',\n 'unwelcome']"
     },
     "execution_count": 1,
     "metadata": {},
     "output_type": "execute_result"
    }
   ],
   "source": [
    "#search in senticnet\n",
    "#import senticnet\n",
    "#senticnet.senticnet['abandon']"
   ],
   "metadata": {
    "collapsed": false,
    "pycharm": {
     "name": "#%%\n"
    }
   }
  },
  {
   "cell_type": "code",
   "execution_count": null,
   "outputs": [],
   "source": [],
   "metadata": {
    "collapsed": false,
    "pycharm": {
     "name": "#%%\n"
    }
   }
  }
 ],
 "metadata": {
  "kernelspec": {
   "display_name": "Python 3",
   "language": "python",
   "name": "python3"
  },
  "language_info": {
   "codemirror_mode": {
    "name": "ipython",
    "version": 2
   },
   "file_extension": ".py",
   "mimetype": "text/x-python",
   "name": "python",
   "nbconvert_exporter": "python",
   "pygments_lexer": "ipython2",
   "version": "2.7.6"
  }
 },
 "nbformat": 4,
 "nbformat_minor": 0
}